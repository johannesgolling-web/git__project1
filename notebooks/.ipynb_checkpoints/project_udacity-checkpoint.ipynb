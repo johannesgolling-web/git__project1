{
 "cells": [
  {
   "cell_type": "code",
   "execution_count": null,
   "id": "3771d36d-5e44-43d4-90e7-1c4926da18a1",
   "metadata": {},
   "outputs": [],
   "source": [
    "##test"
   ]
  }
 ],
 "metadata": {
  "kernelspec": {
   "display_name": "Python (git__project1)",
   "language": "python",
   "name": "git__project1"
  },
  "language_info": {
   "codemirror_mode": {
    "name": "ipython",
    "version": 3
   },
   "file_extension": ".py",
   "mimetype": "text/x-python",
   "name": "python",
   "nbconvert_exporter": "python",
   "pygments_lexer": "ipython3",
   "version": "3.14.0"
  }
 },
 "nbformat": 4,
 "nbformat_minor": 5
}
